{
 "cells": [
  {
   "cell_type": "code",
   "execution_count": 6,
   "metadata": {},
   "outputs": [],
   "source": [
    "#Importação dos módulos\n",
    "import pandas as pd\n",
    "from collections import Counter"
   ]
  },
  {
   "cell_type": "code",
   "execution_count": 7,
   "metadata": {},
   "outputs": [],
   "source": [
    "#Leitura do DF com os dados dos filmes e filtragem das colunas importante\n",
    "\n",
    "#df2= pd.read_csv(\"D:\\\\Dropbox\\\\Pessoal\\\\Python\\\\Lets\\\\Projeto_Modulo_3\\\\bases\\\\IMDb movies.csv\")\n",
    "df2= pd.read_csv(r\"C:\\Users\\Denise_\\Documents\\Pi_DS\\Git\\Projeto_Modulo_3\\bases\\IMDb movies.csv\")\n",
    "df2 = df2[['imdb_title_id',\"title\",\"genre\",  'avg_vote']]"
   ]
  },
  {
   "cell_type": "code",
   "execution_count": 8,
   "metadata": {},
   "outputs": [],
   "source": [
    "#Leitura do DF com o nome do ator e filtragem das colunas importante\n",
    "\n",
    "#df1= pd.read_csv(\"D:\\\\Dropbox\\\\Pessoal\\\\Python\\\\Lets\\\\Projeto_Modulo_3\\\\bases\\\\IMDb names.csv\")\n",
    "df1= pd.read_csv(r\"C:\\Users\\Denise_\\Documents\\Pi_DS\\Git\\Projeto_Modulo_3\\bases\\IMDb names.csv\")\n",
    "df1 = df1[['imdb_name_id',\"name\",  'known_for_titles']]"
   ]
  },
  {
   "cell_type": "code",
   "execution_count": 36,
   "metadata": {},
   "outputs": [
    {
     "name": "stdout",
     "output_type": "stream",
     "text": [
      " * Serving Flask app \"__main__\" (lazy loading)\n",
      " * Environment: production\n",
      "   WARNING: This is a development server. Do not use it in a production deployment.\n",
      "   Use a production WSGI server instead.\n",
      " * Debug mode: off\n"
     ]
    },
    {
     "name": "stderr",
     "output_type": "stream",
     "text": [
      " * Running on http://127.0.0.1:5000/ (Press CTRL+C to quit)\n",
      "127.0.0.1 - - [29/Jan/2020 21:25:37] \"POST /nome_genero HTTP/1.1\" 200 -\n"
     ]
    }
   ],
   "source": [
    "from flask import Flask, request, current_app, jsonify\n",
    "\n",
    "app = Flask(__name__)\n",
    "@app.route(\"/nome_genero\", methods=['POST'])\n",
    "def nome_genero():\n",
    "    nome = request.json\n",
    "    \n",
    "    try:\n",
    "        result = genero(nome[\"genero\"])\n",
    "        return result, 200\n",
    "    except:\n",
    "        return \"Genero não encontrado\", 400\n",
    "app.run()\n",
    "\n",
    "#Função que recebe um nome de ator como str e printa o nome, principais filmes, média de votos de cada um e  seus gêneros\n",
    "\n",
    "def genero(nome):\n",
    "    lista = {}\n",
    "    #Verificando se o nome se encontra na tabela\n",
    "    if nome in df2[\"genre\"].unique():\n",
    "        #Caso esteja seleciona apenas a coluna do df que corresponde aos principais filmes, transforma essa lista para str \n",
    "        # e depois separa por ,:\n",
    "        df3= df2.loc[df2[\"genre\"] == nome]\n",
    "        df3 = df3.sort_values(\"avg_vote\", ascending=False)\n",
    "        df3 = df3.head(25)\n",
    "        lista[str(df3[\"title\"].values)] = [str(df3['avg_vote'].values)]\n",
    "        return lista"
   ]
  },
  {
   "cell_type": "code",
   "execution_count": null,
   "metadata": {},
   "outputs": [],
   "source": []
  }
 ],
 "metadata": {
  "kernelspec": {
   "display_name": "Python 3",
   "language": "python",
   "name": "python3"
  },
  "language_info": {
   "codemirror_mode": {
    "name": "ipython",
    "version": 3
   },
   "file_extension": ".py",
   "mimetype": "text/x-python",
   "name": "python",
   "nbconvert_exporter": "python",
   "pygments_lexer": "ipython3",
   "version": "3.7.4"
  }
 },
 "nbformat": 4,
 "nbformat_minor": 2
}
