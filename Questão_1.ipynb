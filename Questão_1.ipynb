{
 "cells": [
  {
   "cell_type": "markdown",
   "metadata": {},
   "source": [
    "# Dado o nome de um filme, mostre seus principais atores, a media das suas notas e o seu gênero"
   ]
  },
  {
   "cell_type": "code",
   "execution_count": 1,
   "metadata": {},
   "outputs": [],
   "source": [
    "#Importação dos módulos\n",
    "import pandas as pd\n",
    "from collections import Counter"
   ]
  },
  {
   "cell_type": "code",
   "execution_count": 2,
   "metadata": {},
   "outputs": [],
   "source": [
    "#Leitura do DF com os dados dos filmes e filtragem das colunas importante\n",
    "\n",
    "df1= pd.read_csv(r\"C:\\Users\\Denise_\\Documents\\Pi_DS\\Git\\Projeto_Modulo_3\\bases\\IMDb movies.csv\")\n",
    "#df2= pd.read_csv(r\"C:\\Users\\lsminervino\\Dropbox\\Pessoal\\Python\\Lets\\Projeto_Modulo_3\\bases\\IMDb movies.csv\")\n",
    "df1 = df1[[\"title\",\"genre\", 'avg_vote',\"actors\"]]"
   ]
  },
  {
   "cell_type": "code",
   "execution_count": 7,
   "metadata": {},
   "outputs": [
    {
     "name": "stdout",
     "output_type": "stream",
     "text": [
      " * Serving Flask app \"__main__\" (lazy loading)\n",
      " * Environment: production\n",
      "   WARNING: This is a development server. Do not use it in a production deployment.\n",
      "   Use a production WSGI server instead.\n",
      " * Debug mode: off\n"
     ]
    },
    {
     "name": "stderr",
     "output_type": "stream",
     "text": [
      " * Running on http://127.0.0.1:5000/ (Press CTRL+C to quit)\n",
      "127.0.0.1 - - [29/Jan/2020 20:49:23] \"POST /nome_filme HTTP/1.1\" 200 -\n",
      "127.0.0.1 - - [29/Jan/2020 20:49:53] \"POST /nome_filme HTTP/1.1\" 200 -\n",
      "127.0.0.1 - - [29/Jan/2020 20:50:19] \"POST /nome_filme HTTP/1.1\" 200 -\n"
     ]
    }
   ],
   "source": [
    "#Dado o nome do filme retorna o título, o gênero, a média da nota e os atores\n",
    "\n",
    "from flask import Flask, request, current_app, jsonify\n",
    "\n",
    "app = Flask(__name__)\n",
    "@app.route(\"/nome_filme\", methods=['POST'])\n",
    "def nome_filme():\n",
    "    nome = request.json\n",
    "    \n",
    "    try:\n",
    "        result = filme(nome[\"filme\"])\n",
    "        return result, 200\n",
    "    except:\n",
    "        return \"Filme não encontrado\", 400\n",
    "app.run()\n",
    "\n",
    "\n",
    "def filme(nome):\n",
    "    lista = {}\n",
    "    #Verificando se o nome se encontra na tabela\n",
    "    if nome in df1[\"title\"].unique():\n",
    "        #Caso esteja seleciona apenas a coluna do df que corresponde aos principais filmes, transforma essa lista para str \n",
    "        # e depois separa por ,:\n",
    "        df2= df1.loc[df1[\"title\"] == nome]\n",
    "        lista[nome] = [str(df2[\"genre\"].values), str(df2['avg_vote'].values), str(df2[\"actors\"].values)]\n",
    "        return lista\n",
    "        "
   ]
  },
  {
   "cell_type": "code",
   "execution_count": 6,
   "metadata": {},
   "outputs": [
    {
     "data": {
      "text/html": [
       "<div>\n",
       "<style scoped>\n",
       "    .dataframe tbody tr th:only-of-type {\n",
       "        vertical-align: middle;\n",
       "    }\n",
       "\n",
       "    .dataframe tbody tr th {\n",
       "        vertical-align: top;\n",
       "    }\n",
       "\n",
       "    .dataframe thead th {\n",
       "        text-align: right;\n",
       "    }\n",
       "</style>\n",
       "<table border=\"1\" class=\"dataframe\">\n",
       "  <thead>\n",
       "    <tr style=\"text-align: right;\">\n",
       "      <th></th>\n",
       "      <th>title</th>\n",
       "      <th>genre</th>\n",
       "      <th>avg_vote</th>\n",
       "      <th>actors</th>\n",
       "    </tr>\n",
       "  </thead>\n",
       "  <tbody>\n",
       "    <tr>\n",
       "      <th>0</th>\n",
       "      <td>The Story of the Kelly Gang</td>\n",
       "      <td>Biography, Crime, Drama</td>\n",
       "      <td>6.1</td>\n",
       "      <td>Elizabeth Tait, John Tait, Norman Campbell, Be...</td>\n",
       "    </tr>\n",
       "    <tr>\n",
       "      <th>1</th>\n",
       "      <td>Den sorte drøm</td>\n",
       "      <td>Drama</td>\n",
       "      <td>5.9</td>\n",
       "      <td>Asta Nielsen, Valdemar Psilander, Gunnar Helse...</td>\n",
       "    </tr>\n",
       "    <tr>\n",
       "      <th>2</th>\n",
       "      <td>Cleopatra</td>\n",
       "      <td>Drama, History</td>\n",
       "      <td>5.2</td>\n",
       "      <td>Helen Gardner, Pearl Sindelar, Miss Fielding, ...</td>\n",
       "    </tr>\n",
       "    <tr>\n",
       "      <th>3</th>\n",
       "      <td>L'Inferno</td>\n",
       "      <td>Adventure, Drama, Fantasy</td>\n",
       "      <td>7.0</td>\n",
       "      <td>Salvatore Papa, Arturo Pirovano, Giuseppe de L...</td>\n",
       "    </tr>\n",
       "    <tr>\n",
       "      <th>4</th>\n",
       "      <td>From the Manger to the Cross; or, Jesus of Naz...</td>\n",
       "      <td>Biography, Drama</td>\n",
       "      <td>5.7</td>\n",
       "      <td>R. Henderson Bland, Percy Dyer, Gene Gauntier,...</td>\n",
       "    </tr>\n",
       "  </tbody>\n",
       "</table>\n",
       "</div>"
      ],
      "text/plain": [
       "                                               title  \\\n",
       "0                        The Story of the Kelly Gang   \n",
       "1                                     Den sorte drøm   \n",
       "2                                          Cleopatra   \n",
       "3                                          L'Inferno   \n",
       "4  From the Manger to the Cross; or, Jesus of Naz...   \n",
       "\n",
       "                       genre  avg_vote  \\\n",
       "0    Biography, Crime, Drama       6.1   \n",
       "1                      Drama       5.9   \n",
       "2             Drama, History       5.2   \n",
       "3  Adventure, Drama, Fantasy       7.0   \n",
       "4           Biography, Drama       5.7   \n",
       "\n",
       "                                              actors  \n",
       "0  Elizabeth Tait, John Tait, Norman Campbell, Be...  \n",
       "1  Asta Nielsen, Valdemar Psilander, Gunnar Helse...  \n",
       "2  Helen Gardner, Pearl Sindelar, Miss Fielding, ...  \n",
       "3  Salvatore Papa, Arturo Pirovano, Giuseppe de L...  \n",
       "4  R. Henderson Bland, Percy Dyer, Gene Gauntier,...  "
      ]
     },
     "execution_count": 6,
     "metadata": {},
     "output_type": "execute_result"
    }
   ],
   "source": [
    "df1.head()"
   ]
  },
  {
   "cell_type": "code",
   "execution_count": null,
   "metadata": {},
   "outputs": [],
   "source": []
  }
 ],
 "metadata": {
  "kernelspec": {
   "display_name": "Python 3",
   "language": "python",
   "name": "python3"
  },
  "language_info": {
   "codemirror_mode": {
    "name": "ipython",
    "version": 3
   },
   "file_extension": ".py",
   "mimetype": "text/x-python",
   "name": "python",
   "nbconvert_exporter": "python",
   "pygments_lexer": "ipython3",
   "version": "3.7.4"
  }
 },
 "nbformat": 4,
 "nbformat_minor": 2
}
