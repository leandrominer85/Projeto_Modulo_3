{
 "cells": [
  {
   "cell_type": "markdown",
   "metadata": {},
   "source": [
    "# Dado o nome de um filme, mostre seus principais atores, a media das suas notas e o seu gênero"
   ]
  },
  {
   "cell_type": "code",
   "execution_count": 16,
   "metadata": {},
   "outputs": [],
   "source": [
    "#Importação dos módulos\n",
    "import pandas as pd\n",
    "from collections import Counter"
   ]
  },
  {
   "cell_type": "code",
   "execution_count": 17,
   "metadata": {},
   "outputs": [],
   "source": [
    "#Leitura do DF com os dados dos filmes e filtragem das colunas importante\n",
    "\n",
    "df1= pd.read_csv(\"D:\\\\Dropbox\\\\Pessoal\\\\Python\\\\Lets\\\\Projeto_Modulo_3\\\\bases\\\\IMDb movies.csv\")\n",
    "#df2= pd.read_csv(r\"C:\\Users\\lsminervino\\Dropbox\\Pessoal\\Python\\Lets\\Projeto_Modulo_3\\bases\\IMDb movies.csv\")\n",
    "df1 = df1[[\"title\",\"genre\",  'avg_vote',\"actors\"]]"
   ]
  },
  {
   "cell_type": "code",
   "execution_count": 18,
   "metadata": {},
   "outputs": [
    {
     "data": {
      "text/plain": [
       "Index(['title', 'genre', 'avg_vote', 'actors'], dtype='object')"
      ]
     },
     "execution_count": 18,
     "metadata": {},
     "output_type": "execute_result"
    }
   ],
   "source": [
    "df1.columns"
   ]
  },
  {
   "cell_type": "code",
   "execution_count": 42,
   "metadata": {},
   "outputs": [],
   "source": [
    "#Dado o nome do filme retorna o título, o gênero, a média da nota e os atores\n",
    "\n",
    "\n",
    "def filme(nome):\n",
    "\n",
    "    #Verificando se o nome se encontra na tabela\n",
    "    if nome in df1[\"title\"].unique():\n",
    "        #Caso esteja seleciona apenas a coluna do df que corresponde aos principais filmes, transforma essa lista para str \n",
    "        # e depois separa por ,:\n",
    "        df2= df1.loc[df1[\"title\"] == nome]\n",
    "        print (\"Título: {}\\nGênero: {}\\nMédia de votos: {}\\nAtores: {}\".format(nome, df2[\"genre\"].values, df2['avg_vote'].values, df2[\"actors\"].values ))\n",
    "\n",
    "        "
   ]
  },
  {
   "cell_type": "code",
   "execution_count": 43,
   "metadata": {},
   "outputs": [
    {
     "name": "stdout",
     "output_type": "stream",
     "text": [
      "Título: Funny Face\n",
      "Gênero: ['Comedy, Musical, Romance']\n",
      "Média de votos: [7.]\n",
      "Atores: ['Audrey Hepburn, Fred Astaire, Kay Thompson, Michel Auclair, Robert Flemyng, Dovima, Suzy Parker, Sunny Hartnett, Jean Del Val, Virginia Gibson, Sue England, Ruta Lee, Alex Gerry, Iphigenie Castiglioni']\n"
     ]
    }
   ],
   "source": [
    "#teste\n",
    "\n",
    "filme(\"Funny Face\")"
   ]
  },
  {
   "cell_type": "code",
   "execution_count": null,
   "metadata": {},
   "outputs": [],
   "source": []
  }
 ],
 "metadata": {
  "kernelspec": {
   "display_name": "Python 3",
   "language": "python",
   "name": "python3"
  },
  "language_info": {
   "codemirror_mode": {
    "name": "ipython",
    "version": 3
   },
   "file_extension": ".py",
   "mimetype": "text/x-python",
   "name": "python",
   "nbconvert_exporter": "python",
   "pygments_lexer": "ipython3",
   "version": "3.7.4"
  }
 },
 "nbformat": 4,
 "nbformat_minor": 2
}
