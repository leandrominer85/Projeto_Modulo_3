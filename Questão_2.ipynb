{
 "cells": [
  {
   "cell_type": "markdown",
   "metadata": {},
   "source": [
    "# Dado o nome de um ator, mostre seus principais filmes, media das notas de cada filme, o gênero de cada filme e o mais comum "
   ]
  },
  {
   "cell_type": "code",
   "execution_count": 1,
   "metadata": {},
   "outputs": [],
   "source": [
    "#Importação dos módulos\n",
    "import pandas as pd\n",
    "from collections import Counter"
   ]
  },
  {
   "cell_type": "code",
<<<<<<< HEAD
   "execution_count": 2,
=======
   "execution_count": 3,
>>>>>>> 5305e183673cae4021f8bb8cb1a744c7b3277557
   "metadata": {
    "scrolled": true
   },
   "outputs": [],
   "source": [
    "#Leitura do DF com o nome do ator e filtragem das colunas importante\n",
    "\n",
<<<<<<< HEAD
    "#df1= pd.read_csv(\"D:\\\\Dropbox\\\\Pessoal\\\\Python\\\\Lets\\\\Projeto_Modulo_3\\\\bases\\\\IMDb names.csv\")\n",
    "df1= pd.read_csv(r\"C:\\Users\\Denise_\\Documents\\Pi_DS\\Git\\Projeto_Modulo_3\\bases\\IMDb names.csv\")\n",
=======
    "df1= pd.read_csv(\"D:\\\\Dropbox\\\\Pessoal\\\\Python\\\\Lets\\\\Projeto_Modulo_3\\\\bases\\\\IMDb names.csv\")\n",
    "#df1= pd.read_csv(r\"C:\\Users\\lsminervino\\Dropbox\\Pessoal\\Python\\Lets\\Projeto_Modulo_3\\bases\\IMDb names.csv\")\n",
>>>>>>> 5305e183673cae4021f8bb8cb1a744c7b3277557
    "df1 = df1[['imdb_name_id',\"name\",  'known_for_titles']]"
   ]
  },
  {
   "cell_type": "code",
   "execution_count": 4,
<<<<<<< HEAD
=======
   "metadata": {},
   "outputs": [
    {
     "data": {
      "text/plain": [
       "Index(['imdb_name_id', 'name', 'known_for_titles'], dtype='object')"
      ]
     },
     "execution_count": 4,
     "metadata": {},
     "output_type": "execute_result"
    }
   ],
   "source": [
    "df1.columns"
   ]
  },
  {
   "cell_type": "code",
   "execution_count": 6,
>>>>>>> 5305e183673cae4021f8bb8cb1a744c7b3277557
   "metadata": {},
   "outputs": [],
   "source": [
    "#Leitura do DF com os dados dos filmes e filtragem das colunas importante\n",
    "\n",
<<<<<<< HEAD
    "#df2= pd.read_csv(\"D:\\\\Dropbox\\\\Pessoal\\\\Python\\\\Lets\\\\Projeto_Modulo_3\\\\bases\\\\IMDb movies.csv\")\n",
    "df2= pd.read_csv(r\"C:\\Users\\Denise_\\Documents\\Pi_DS\\Git\\Projeto_Modulo_3\\bases\\IMDb movies.csv\")\n",
=======
    "df2= pd.read_csv(\"D:\\\\Dropbox\\\\Pessoal\\\\Python\\\\Lets\\\\Projeto_Modulo_3\\\\bases\\\\IMDb movies.csv\")\n",
    "#df2= pd.read_csv(r\"C:\\Users\\lsminervino\\Dropbox\\Pessoal\\Python\\Lets\\Projeto_Modulo_3\\bases\\IMDb movies.csv\")\n",
>>>>>>> 5305e183673cae4021f8bb8cb1a744c7b3277557
    "df2 = df2[['imdb_title_id',\"title\",\"genre\",  'avg_vote']]"
   ]
  },
  {
   "cell_type": "code",
   "execution_count": 18,
   "metadata": {
    "scrolled": true
   },
   "outputs": [
    {
     "name": "stdout",
     "output_type": "stream",
     "text": [
      " * Serving Flask app \"__main__\" (lazy loading)\n",
      " * Environment: production\n",
      "   WARNING: This is a development server. Do not use it in a production deployment.\n",
      "   Use a production WSGI server instead.\n",
      " * Debug mode: off\n"
     ]
    },
    {
     "name": "stderr",
     "output_type": "stream",
     "text": [
      " * Running on http://127.0.0.1:5000/ (Press CTRL+C to quit)\n",
      "127.0.0.1 - - [29/Jan/2020 20:15:05] \"POST /nome_ator HTTP/1.1\" 200 -\n"
     ]
    }
   ],
   "source": [
<<<<<<< HEAD
    "from flask import Flask, request, current_app, jsonify\n",
=======
    "df2.columns"
   ]
  },
  {
   "cell_type": "code",
   "execution_count": 10,
   "metadata": {},
   "outputs": [],
   "source": [
    "#Função que recebe um nome de ator como str e printa o nome, principais filmes, média devotos de cada um e  seus gêneros\n",
>>>>>>> 5305e183673cae4021f8bb8cb1a744c7b3277557
    "\n",
    "app = Flask(__name__)\n",
    "@app.route(\"/nome_ator\", methods=['POST'])\n",
    "def nome_ator():\n",
    "    nome = request.json\n",
    "    \n",
    "    try:\n",
    "        result = ator(nome[\"ator\"])\n",
    "        return result, 200\n",
    "    except:\n",
    "        return \"Ator não encontrado\", 200\n",
    "app.run()\n",
    "\n",
    "#Função que recebe um nome de ator como str e printa o nome, principais filmes, média de votos de cada um e  seus gêneros\n",
    "\n",
    "def ator(nome):\n",
    "    lista = {}\n",
    "    #Verificando se o nome se encontra na tabela\n",
    "    if nome in df1[\"name\"].unique():\n",
    "        #Caso esteja seleciona apenas a coluna do df que corresponde aos principais filmes, transforma essa lista para str \n",
    "        # e depois separa por ,:\n",
    "        filmes = df1['known_for_titles'][df1['name'] == nome]\n",
    "        filmes = filmes.to_string(index=False)\n",
    "        filmes = filmes.split(\",\", filmes.count(','))\n",
    "\n",
    "        for i in filmes:\n",
    "            i = i.strip()\n",
    "            #Seleciona apenas a correnpondência de cada elemento na lista de filmes e printa os valores de cada coluna correspondente\n",
    "            df3 =  df2.loc[df2['imdb_title_id'] == i]\n",
    "            lista[str(df3['title'].values)] = [str(df3['genre'].values), str(df3['avg_vote'].values)]\n",
    "        return lista\n",
    "        "
   ]
  },
  {
   "cell_type": "code",
<<<<<<< HEAD
=======
   "execution_count": 11,
   "metadata": {},
   "outputs": [
    {
     "name": "stdout",
     "output_type": "stream",
     "text": [
      "tt0050419,tt0053137,tt0072308,tt0043044\n",
      "Ator: Fred Astaire\n",
      "Título: ['Funny Face'], gênero: ['Comedy, Musical, Romance'], média de votos: [7.] \n",
      "\n",
      "Título: ['On the Beach'], gênero: ['Drama, Romance, Sci-Fi'], média de votos: [7.2] \n",
      "\n",
      "Título: ['The Towering Inferno'], gênero: ['Action, Drama, Thriller'], média de votos: [6.9] \n",
      "\n",
      "Título: ['Three Little Words'], gênero: ['Biography, Comedy, Musical'], média de votos: [7.] \n",
      "\n",
      "Número de Gêneros: Counter({'Comedy': 2, 'Musical': 2, 'Romance': 2, 'Drama': 2, 'Biography': 1, 'Sci-Fi': 1, 'Action': 1, 'Thriller': 1})\n"
     ]
    }
   ],
   "source": [
    "#teste\n",
    "\n",
    "ator(\"Fred Astaire\")"
   ]
  },
  {
   "cell_type": "code",
   "execution_count": null,
   "metadata": {},
   "outputs": [],
   "source": []
  },
  {
   "cell_type": "code",
>>>>>>> 5305e183673cae4021f8bb8cb1a744c7b3277557
   "execution_count": null,
   "metadata": {},
   "outputs": [],
   "source": []
  }
 ],
 "metadata": {
  "kernelspec": {
   "display_name": "Python 3",
   "language": "python",
   "name": "python3"
  },
  "language_info": {
   "codemirror_mode": {
    "name": "ipython",
    "version": 3
   },
   "file_extension": ".py",
   "mimetype": "text/x-python",
   "name": "python",
   "nbconvert_exporter": "python",
   "pygments_lexer": "ipython3",
<<<<<<< HEAD
   "version": "3.7.4"
=======
   "version": "3.6.5"
>>>>>>> 5305e183673cae4021f8bb8cb1a744c7b3277557
  }
 },
 "nbformat": 4,
 "nbformat_minor": 2
}
