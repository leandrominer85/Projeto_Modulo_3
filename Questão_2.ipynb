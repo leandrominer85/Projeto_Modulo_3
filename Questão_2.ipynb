{
 "cells": [
  {
   "cell_type": "markdown",
   "metadata": {},
   "source": [
    "# Dado o nome de um ator, mostre seus principais filmes, media das notas de cada filme, o gênero de cada filme e o mais comum "
   ]
  },
  {
   "cell_type": "code",
   "execution_count": 2,
   "metadata": {},
   "outputs": [],
   "source": [
    "#Importação dos módulos\n",
    "import pandas as pd\n",
    "from collections import Counter"
   ]
  },
  {
   "cell_type": "code",
   "execution_count": 3,
   "metadata": {
    "scrolled": true
   },
   "outputs": [],
   "source": [
    "#Leitura do DF com o nome do ator e filtragem das colunas importante\n",
    "\n",
    "#df1= pd.read_csv(\"D:\\\\Dropbox\\\\Pessoal\\\\Python\\\\Lets\\\\Projeto_Modulo_3\\\\bases\\\\IMDb names.csv\")\n",
    "df1= pd.read_csv(r\"C:\\Users\\Denise_\\Documents\\Pi_DS\\Git\\Projeto_Modulo_3\\bases\\IMDb names.csv\")\n",
    "df1 = df1[['imdb_name_id',\"name\",  'known_for_titles']]"
   ]
  },
  {
   "cell_type": "code",
   "execution_count": 4,
   "metadata": {},
   "outputs": [
    {
     "data": {
      "text/html": [
       "<div>\n",
       "<style scoped>\n",
       "    .dataframe tbody tr th:only-of-type {\n",
       "        vertical-align: middle;\n",
       "    }\n",
       "\n",
       "    .dataframe tbody tr th {\n",
       "        vertical-align: top;\n",
       "    }\n",
       "\n",
       "    .dataframe thead th {\n",
       "        text-align: right;\n",
       "    }\n",
       "</style>\n",
       "<table border=\"1\" class=\"dataframe\">\n",
       "  <thead>\n",
       "    <tr style=\"text-align: right;\">\n",
       "      <th></th>\n",
       "      <th>imdb_title_id</th>\n",
       "      <th>title</th>\n",
       "      <th>genre</th>\n",
       "      <th>avg_vote</th>\n",
       "    </tr>\n",
       "  </thead>\n",
       "  <tbody>\n",
       "    <tr>\n",
       "      <th>0</th>\n",
       "      <td>tt0000574</td>\n",
       "      <td>The Story of the Kelly Gang</td>\n",
       "      <td>Biography, Crime, Drama</td>\n",
       "      <td>6.1</td>\n",
       "    </tr>\n",
       "    <tr>\n",
       "      <th>1</th>\n",
       "      <td>tt0001892</td>\n",
       "      <td>Den sorte drøm</td>\n",
       "      <td>Drama</td>\n",
       "      <td>5.9</td>\n",
       "    </tr>\n",
       "    <tr>\n",
       "      <th>2</th>\n",
       "      <td>tt0002101</td>\n",
       "      <td>Cleopatra</td>\n",
       "      <td>Drama, History</td>\n",
       "      <td>5.2</td>\n",
       "    </tr>\n",
       "    <tr>\n",
       "      <th>3</th>\n",
       "      <td>tt0002130</td>\n",
       "      <td>L'Inferno</td>\n",
       "      <td>Adventure, Drama, Fantasy</td>\n",
       "      <td>7.0</td>\n",
       "    </tr>\n",
       "    <tr>\n",
       "      <th>4</th>\n",
       "      <td>tt0002199</td>\n",
       "      <td>From the Manger to the Cross; or, Jesus of Naz...</td>\n",
       "      <td>Biography, Drama</td>\n",
       "      <td>5.7</td>\n",
       "    </tr>\n",
       "  </tbody>\n",
       "</table>\n",
       "</div>"
      ],
      "text/plain": [
       "  imdb_title_id                                              title  \\\n",
       "0     tt0000574                        The Story of the Kelly Gang   \n",
       "1     tt0001892                                     Den sorte drøm   \n",
       "2     tt0002101                                          Cleopatra   \n",
       "3     tt0002130                                          L'Inferno   \n",
       "4     tt0002199  From the Manger to the Cross; or, Jesus of Naz...   \n",
       "\n",
       "                       genre  avg_vote  \n",
       "0    Biography, Crime, Drama       6.1  \n",
       "1                      Drama       5.9  \n",
       "2             Drama, History       5.2  \n",
       "3  Adventure, Drama, Fantasy       7.0  \n",
       "4           Biography, Drama       5.7  "
      ]
     },
     "execution_count": 4,
     "metadata": {},
     "output_type": "execute_result"
    }
   ],
   "source": [
    "#Leitura do DF com os dados dos filmes e filtragem das colunas importante\n",
    "\n",
    "#df2= pd.read_csv(\"D:\\\\Dropbox\\\\Pessoal\\\\Python\\\\Lets\\\\Projeto_Modulo_3\\\\bases\\\\IMDb movies.csv\")\n",
    "df2= pd.read_csv(r\"C:\\Users\\Denise_\\Documents\\Pi_DS\\Git\\Projeto_Modulo_3\\bases\\IMDb movies.csv\")\n",
    "df2 = df2[['imdb_title_id',\"title\",\"genre\",  'avg_vote']]\n",
    "df2.head()"
   ]
  },
  {
   "cell_type": "code",
   "execution_count": 18,
   "metadata": {
    "scrolled": true
   },
   "outputs": [
    {
     "name": "stdout",
     "output_type": "stream",
     "text": [
      " * Serving Flask app \"__main__\" (lazy loading)\n",
      " * Environment: production\n",
      "   WARNING: This is a development server. Do not use it in a production deployment.\n",
      "   Use a production WSGI server instead.\n",
      " * Debug mode: off\n"
     ]
    },
    {
     "name": "stderr",
     "output_type": "stream",
     "text": [
      " * Running on http://127.0.0.1:5000/ (Press CTRL+C to quit)\n",
      "127.0.0.1 - - [29/Jan/2020 20:15:05] \"POST /nome_ator HTTP/1.1\" 200 -\n"
     ]
    }
   ],
   "source": [
    "from flask import Flask, request, current_app, jsonify\n",
    "\n",
    "app = Flask(__name__)\n",
    "@app.route(\"/nome_ator\", methods=['POST'])\n",
    "def nome_ator():\n",
    "    nome = request.json\n",
    "    \n",
    "    try:\n",
    "        result = ator(nome[\"ator\"])\n",
    "        return result, 200\n",
    "    except:\n",
    "        return \"Ator não encontrado\", 400\n",
    "app.run()\n",
    "\n",
    "#Função que recebe um nome de ator como str e printa o nome, principais filmes, média de votos de cada um e  seus gêneros\n",
    "\n",
    "def ator(nome):\n",
    "    lista = {}\n",
    "    #Verificando se o nome se encontra na tabela\n",
    "    if nome in df1[\"name\"].unique():\n",
    "        #Caso esteja seleciona apenas a coluna do df que corresponde aos principais filmes, transforma essa lista para str \n",
    "        # e depois separa por ,:\n",
    "        filmes = df1['known_for_titles'][df1['name'] == nome]\n",
    "        filmes = filmes.to_string(index=False)\n",
    "        filmes = filmes.split(\",\", filmes.count(','))\n",
    "\n",
    "        for i in filmes:\n",
    "            i = i.strip()\n",
    "            #Seleciona apenas a correnpondência de cada elemento na lista de filmes e printa os valores de cada coluna correspondente\n",
    "            df3 =  df2.loc[df2['imdb_title_id'] == i]\n",
    "            lista[str(df3['title'].values)] = [str(df3['genre'].values), str(df3['avg_vote'].values)]\n",
    "        return lista\n",
    "        "
   ]
  },
  {
   "cell_type": "code",
   "execution_count": null,
   "metadata": {},
   "outputs": [],
   "source": []
  }
 ],
 "metadata": {
  "kernelspec": {
   "display_name": "Python 3",
   "language": "python",
   "name": "python3"
  },
  "language_info": {
   "codemirror_mode": {
    "name": "ipython",
    "version": 3
   },
   "file_extension": ".py",
   "mimetype": "text/x-python",
   "name": "python",
   "nbconvert_exporter": "python",
   "pygments_lexer": "ipython3",
   "version": "3.7.4"
  }
 },
 "nbformat": 4,
 "nbformat_minor": 2
}
