{
 "cells": [
  {
   "cell_type": "markdown",
   "metadata": {},
   "source": [
    "# Dado o nome de um ator, mostre seus principais filmes, media das notas de cada filme, o gênero de cada filme e o mais comum "
   ]
  },
  {
   "cell_type": "code",
   "execution_count": 1,
   "metadata": {},
   "outputs": [],
   "source": [
    "#Importação dos módulos\n",
    "import pandas as pd\n",
    "from collections import Counter"
   ]
  },
  {
   "cell_type": "code",
   "execution_count": 3,
   "metadata": {
    "scrolled": true
   },
   "outputs": [],
   "source": [
    "#Leitura do DF com o nome do ator e filtragem das colunas importante\n",
    "\n",
    "df1= pd.read_csv(\"D:\\\\Dropbox\\\\Pessoal\\\\Python\\\\Lets\\\\Projeto_Modulo_3\\\\bases\\\\IMDb names.csv\")\n",
    "#df1= pd.read_csv(r\"C:\\Users\\lsminervino\\Dropbox\\Pessoal\\Python\\Lets\\Projeto_Modulo_3\\bases\\IMDb names.csv\")\n",
    "df1 = df1[['imdb_name_id',\"name\",  'known_for_titles']]"
   ]
  },
  {
   "cell_type": "code",
   "execution_count": 4,
   "metadata": {},
   "outputs": [
    {
     "data": {
      "text/plain": [
       "Index(['imdb_name_id', 'name', 'known_for_titles'], dtype='object')"
      ]
     },
     "execution_count": 4,
     "metadata": {},
     "output_type": "execute_result"
    }
   ],
   "source": [
    "df1.columns"
   ]
  },
  {
   "cell_type": "code",
   "execution_count": 6,
   "metadata": {},
   "outputs": [],
   "source": [
    "#Leitura do DF com os dados dos filmes e filtragem das colunas importante\n",
    "\n",
    "df2= pd.read_csv(\"D:\\\\Dropbox\\\\Pessoal\\\\Python\\\\Lets\\\\Projeto_Modulo_3\\\\bases\\\\IMDb movies.csv\")\n",
    "#df2= pd.read_csv(r\"C:\\Users\\lsminervino\\Dropbox\\Pessoal\\Python\\Lets\\Projeto_Modulo_3\\bases\\IMDb movies.csv\")\n",
    "df2 = df2[['imdb_title_id',\"title\",\"genre\",  'avg_vote']]"
   ]
  },
  {
   "cell_type": "code",
   "execution_count": 7,
   "metadata": {},
   "outputs": [
    {
     "data": {
      "text/plain": [
       "Index(['imdb_title_id', 'title', 'genre', 'avg_vote'], dtype='object')"
      ]
     },
     "execution_count": 7,
     "metadata": {},
     "output_type": "execute_result"
    }
   ],
   "source": [
    "df2.columns"
   ]
  },
  {
   "cell_type": "code",
   "execution_count": 10,
   "metadata": {},
   "outputs": [],
   "source": [
    "#Função que recebe um nome de ator como str e printa o nome, principais filmes, média devotos de cada um e  seus gêneros\n",
    "\n",
    "\n",
    "\n",
    "def ator(nome):\n",
    "\n",
    "    #Verificando se o nome se encontra na tabela\n",
    "    if nome in df1[\"name\"].unique():\n",
    "        #Caso esteja seleciona apenas a coluna do df que corresponde aos principais filmes, transforma essa lista para str \n",
    "        # e depois separa por ,:\n",
    "        filmes = df1['known_for_titles'][df1['name'] == nome]\n",
    "        filmes = filmes.to_string(index=False)\n",
    "        filmes = filmes.split(\",\", filmes.count(','))\n",
    "        print (\"Ator: {}\".format(nome))\n",
    "\n",
    "        for i in filmes:\n",
    "            #Seleciona apenas a correnpondência de cada elemento na lista de filmes e printa os valores de cada coluna correspondente\n",
    "            df3 =  df2.loc[df2['imdb_title_id'] == i]\n",
    "            print (\"Título: {}, gênero: {}, média de votos: {} \\n\".format(df3['title'].values, df3['genre'].values, df3['avg_vote'].values))\n",
    "        df4 = df2.loc[df2['imdb_title_id'].isin(filmes)]\n",
    "        df4 = df4.genre.to_string(index=False)\n",
    "        df4 = df4.replace('\\n', ',')\n",
    "        df4 = df4.replace(\" \",\"\")\n",
    "        df4 = df4.split(\",\")\n",
    "        print(\"Número de Gêneros: {}\".format(Counter(df4)))\n",
    "    else:\n",
    "        print(\"Nome inválido\")\n",
    "        "
   ]
  },
  {
   "cell_type": "code",
   "execution_count": 11,
   "metadata": {},
   "outputs": [
    {
     "name": "stdout",
     "output_type": "stream",
     "text": [
      "tt0050419,tt0053137,tt0072308,tt0043044\n",
      "Ator: Fred Astaire\n",
      "Título: ['Funny Face'], gênero: ['Comedy, Musical, Romance'], média de votos: [7.] \n",
      "\n",
      "Título: ['On the Beach'], gênero: ['Drama, Romance, Sci-Fi'], média de votos: [7.2] \n",
      "\n",
      "Título: ['The Towering Inferno'], gênero: ['Action, Drama, Thriller'], média de votos: [6.9] \n",
      "\n",
      "Título: ['Three Little Words'], gênero: ['Biography, Comedy, Musical'], média de votos: [7.] \n",
      "\n",
      "Número de Gêneros: Counter({'Comedy': 2, 'Musical': 2, 'Romance': 2, 'Drama': 2, 'Biography': 1, 'Sci-Fi': 1, 'Action': 1, 'Thriller': 1})\n"
     ]
    }
   ],
   "source": [
    "#teste\n",
    "\n",
    "ator(\"Fred Astaire\")"
   ]
  },
  {
   "cell_type": "code",
   "execution_count": null,
   "metadata": {},
   "outputs": [],
   "source": []
  },
  {
   "cell_type": "code",
   "execution_count": null,
   "metadata": {},
   "outputs": [],
   "source": []
  }
 ],
 "metadata": {
  "kernelspec": {
   "display_name": "Python 3",
   "language": "python",
   "name": "python3"
  },
  "language_info": {
   "codemirror_mode": {
    "name": "ipython",
    "version": 3
   },
   "file_extension": ".py",
   "mimetype": "text/x-python",
   "name": "python",
   "nbconvert_exporter": "python",
   "pygments_lexer": "ipython3",
   "version": "3.6.5"
  }
 },
 "nbformat": 4,
 "nbformat_minor": 2
}
