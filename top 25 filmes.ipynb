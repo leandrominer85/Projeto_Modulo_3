{
 "cells": [
  {
   "cell_type": "markdown",
   "metadata": {},
   "source": [
    "## Dado  um  ano,  mostre  os  top  25  melhores  filmes,  suas  notas  e  seus gêneros"
   ]
  },
  {
   "cell_type": "code",
   "execution_count": 15,
   "metadata": {},
   "outputs": [],
   "source": [
    "import pandas as pd\n",
    "from collections import Counter\n",
    "from flask import Flask, request, current_app, jsonify"
   ]
  },
  {
   "cell_type": "code",
   "execution_count": 16,
   "metadata": {},
   "outputs": [],
   "source": [
    "df1= pd.read_csv(r\"D:\\Dropbox\\Pessoal\\Python\\Lets\\Projeto_Modulo_3\\bases\\IMDb movies.csv\")"
   ]
  },
  {
   "cell_type": "code",
   "execution_count": 17,
   "metadata": {},
   "outputs": [],
   "source": [
    "df1 = df1[[\"title\", 'year',\"genre\",\"avg_vote\"]]"
   ]
  },
  {
   "cell_type": "code",
   "execution_count": 29,
   "metadata": {},
   "outputs": [
    {
     "name": "stdout",
     "output_type": "stream",
     "text": [
      " * Serving Flask app \"__main__\" (lazy loading)\n",
      " * Environment: production\n",
      "   WARNING: Do not use the development server in a production environment.\n",
      "   Use a production WSGI server instead.\n",
      " * Debug mode: off\n"
     ]
    },
    {
     "name": "stderr",
     "output_type": "stream",
     "text": [
      " * Running on http://127.0.0.1:5000/ (Press CTRL+C to quit)\n",
      "C:\\Users\\leandro\\Anaconda3\\lib\\site-packages\\ipykernel_launcher.py:16: SettingWithCopyWarning: \n",
      "A value is trying to be set on a copy of a slice from a DataFrame\n",
      "\n",
      "See the caveats in the documentation: http://pandas.pydata.org/pandas-docs/stable/indexing.html#indexing-view-versus-copy\n",
      "  app.launch_new_instance()\n",
      "[2020-01-29 21:24:08,817] ERROR in app: Exception on /top_25 [POST]\n",
      "Traceback (most recent call last):\n",
      "  File \"C:\\Users\\leandro\\Anaconda3\\lib\\site-packages\\flask\\app.py\", line 1974, in make_response\n",
      "    rv = self.response_class.force_type(rv, request.environ)\n",
      "  File \"C:\\Users\\leandro\\Anaconda3\\lib\\site-packages\\werkzeug\\wrappers.py\", line 921, in force_type\n",
      "    response = BaseResponse(*_run_wsgi_app(response, environ))\n",
      "  File \"C:\\Users\\leandro\\Anaconda3\\lib\\site-packages\\werkzeug\\test.py\", line 923, in run_wsgi_app\n",
      "    app_rv = app(environ, start_response)\n",
      "TypeError: 'dict' object is not callable\n",
      "\n",
      "During handling of the above exception, another exception occurred:\n",
      "\n",
      "Traceback (most recent call last):\n",
      "  File \"C:\\Users\\leandro\\Anaconda3\\lib\\site-packages\\flask\\app.py\", line 2292, in wsgi_app\n",
      "    response = self.full_dispatch_request()\n",
      "  File \"C:\\Users\\leandro\\Anaconda3\\lib\\site-packages\\flask\\app.py\", line 1816, in full_dispatch_request\n",
      "    return self.finalize_request(rv)\n",
      "  File \"C:\\Users\\leandro\\Anaconda3\\lib\\site-packages\\flask\\app.py\", line 1831, in finalize_request\n",
      "    response = self.make_response(rv)\n",
      "  File \"C:\\Users\\leandro\\Anaconda3\\lib\\site-packages\\flask\\app.py\", line 1982, in make_response\n",
      "    reraise(TypeError, new_error, sys.exc_info()[2])\n",
      "  File \"C:\\Users\\leandro\\Anaconda3\\lib\\site-packages\\flask\\_compat.py\", line 34, in reraise\n",
      "    raise value.with_traceback(tb)\n",
      "  File \"C:\\Users\\leandro\\Anaconda3\\lib\\site-packages\\flask\\app.py\", line 1974, in make_response\n",
      "    rv = self.response_class.force_type(rv, request.environ)\n",
      "  File \"C:\\Users\\leandro\\Anaconda3\\lib\\site-packages\\werkzeug\\wrappers.py\", line 921, in force_type\n",
      "    response = BaseResponse(*_run_wsgi_app(response, environ))\n",
      "  File \"C:\\Users\\leandro\\Anaconda3\\lib\\site-packages\\werkzeug\\test.py\", line 923, in run_wsgi_app\n",
      "    app_rv = app(environ, start_response)\n",
      "TypeError: 'dict' object is not callable\n",
      "The view function did not return a valid response. The return type must be a string, tuple, Response instance, or WSGI callable, but it was a dict.\n",
      "127.0.0.1 - - [29/Jan/2020 21:24:08] \"POST /top_25 HTTP/1.1\" 500 -\n"
     ]
    }
   ],
   "source": [
    "app = Flask(__name__)\n",
    "@app.route(\"/top_25\", methods=['POST'])\n",
    "def top_25():\n",
    "    ano = request.json\n",
    "    \n",
    "    try:\n",
    "        result = top(ano[\"ano\"])\n",
    "        return result, 200\n",
    "    except:\n",
    "        return \"não encontrado\", 400\n",
    "app.run()\n",
    "\n",
    "def top(ano):\n",
    "    lista = {}\n",
    "    df2 = df1.loc[df1[\"year\"] == int(ano)]\n",
    "    df2.sort_values(\"avg_vote\", axis = 0, ascending = False, inplace = True)\n",
    "    df2 = df2.head(25)\n",
    "    lista[ano] = [str(df2[\"title\"].values), str(df2['avg_vote'].values), str(df2[\"genre\"].values)]\n",
    "    return lista\n",
    "    "
   ]
  }
 ],
 "metadata": {
  "kernelspec": {
   "display_name": "Python 3",
   "language": "python",
   "name": "python3"
  },
  "language_info": {
   "codemirror_mode": {
    "name": "ipython",
    "version": 3
   },
   "file_extension": ".py",
   "mimetype": "text/x-python",
   "name": "python",
   "nbconvert_exporter": "python",
   "pygments_lexer": "ipython3",
   "version": "3.6.5"
  }
 },
 "nbformat": 4,
 "nbformat_minor": 2
}
